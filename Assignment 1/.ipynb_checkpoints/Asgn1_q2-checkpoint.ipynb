{
 "cells": [
  {
   "cell_type": "code",
   "execution_count": 5,
   "metadata": {
    "collapsed": true
   },
   "outputs": [],
   "source": [
    "import numpy as np\n",
    "import matplotlib.pyplot as plt"
   ]
  },
  {
   "cell_type": "code",
   "execution_count": 148,
   "metadata": {},
   "outputs": [
    {
     "data": {
      "image/png": "[encoded data removed]",
      "text/plain": [
       "<matplotlib.figure.Figure at 0x108a60ef0>"
      ]
     },
     "metadata": {},
     "output_type": "display_data"
    },
    {
     "name": "stdout",
     "output_type": "stream",
     "text": [
      "--------------------------\n",
      "[0.99771239918887178, 0.99936641240815904]\n"
     ]
    },
    {
     "data": {
      "image/png": "[encoded data removed]",
      "text/plain": [
       "<matplotlib.figure.Figure at 0x10885dd30>"
      ]
     },
     "metadata": {},
     "output_type": "display_data"
    }
   ],
   "source": [
    "\n",
    "arr = np.random.rand(1000,100)\n",
    "# print(len(arr))/\n",
    "# print(np.argmax(arr[1]))\n",
    "# print(np.argmax(arr[1])//10)\n",
    "# print(5//10)\n",
    "CMC_curve(arr)\n",
    "genuine_imposter_distribution(arr)\n",
    "# print(arr)\n"
   ]
  },
  {
   "cell_type": "code",
   "execution_count": 43,
   "metadata": {
    "collapsed": true
   },
   "outputs": [],
   "source": [
    "def CMC_curve(match_score):\n",
    "    rank=[0 for i in range(100)]\n",
    "    for i in range(len(match_score)):\n",
    "        listt=list(match_score[i])\n",
    "        # descending\n",
    "        listt.sort(reverse=True)\n",
    "        rank[listt.index(match_score[i][i//10])]+=1\n",
    "#     print(listt)\n",
    "    for i in range(0,100):\n",
    "        rank[i]+=rank[i-1]\n",
    "#     print(rank)\n",
    "    x_axis=[i for i in range(100)]\n",
    "    plt.plot(x_axis, rank, 'ro')\n",
    "    plt.axis([0, 100, 0, 1000])\n",
    "    plt.show()\n",
    "# transform - fit - "
   ]
  },
  {
   "cell_type": "code",
   "execution_count": 147,
   "metadata": {
    "collapsed": true
   },
   "outputs": [],
   "source": [
    "def genuine_imposter_distribution(or_matrix):\n",
    "    matrix = np.transpose(or_matrix)\n",
    "    genuine= []\n",
    "    imposter = []\n",
    "    for i in range(0,100):\n",
    "#         print(i)\n",
    "        maxx = max(matrix[i])\n",
    "        maxxx = 0\n",
    "        for j in range(i*10,(i+1)*10):\n",
    "            if(maxxx < np.any(matrix[i][j])):\n",
    "                maxxx = np.any(matrix[i][j])\n",
    "                \n",
    "        #  print(maxx,i,np.argmax(matrix[i]))\n",
    "        if(((np.argmax(matrix[i]))//10) == i):\n",
    "            genuine.append(maxx)\n",
    "            \n",
    "        elif((maxx == (maxxx + 0.01))):\n",
    "            genuine.append(maxx)\n",
    "        else:\n",
    "            imposter.append(maxx)\n",
    "#     print(imposter)\n",
    "    print(\"--------------------------\")\n",
    "    print(genuine)\n",
    "    bins = np.linspace(0.98,1,100)\n",
    "    plt.hist(genuine,bins,alpha=0.5,label='genuine')\n",
    "    plt.hist(imposter,bins,alpha=0.5,label='imposter')\n",
    "    plt.legend(loc='upper right')\n",
    "    plt.show()"
   ]
  },
  {
   "cell_type": "code",
   "execution_count": null,
   "metadata": {
    "collapsed": true
   },
   "outputs": [],
   "source": []
  }
 ],
 "metadata": {
  "kernelspec": {
   "display_name": "Python 3",
   "language": "python",
   "name": "python3"
  },
  "language_info": {
   "codemirror_mode": {
    "name": "ipython",
    "version": 3
   },
   "file_extension": ".py",
   "mimetype": "text/x-python",
   "name": "python",
   "nbconvert_exporter": "python",
   "pygments_lexer": "ipython3",
   "version": "3.6.1"
  }
 },
 "nbformat": 4,
 "nbformat_minor": 2
}
