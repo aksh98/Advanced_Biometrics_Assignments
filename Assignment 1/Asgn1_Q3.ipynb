{
 "cells": [
  {
   "cell_type": "code",
   "execution_count": 89,
   "metadata": {
    "collapsed": true
   },
   "outputs": [],
   "source": [
    "import numpy as np\n",
    "from sklearn import svm\n",
    "from sklearn import metrics\n",
    "from sklearn.model_selection import train_test_split\n",
    "from sklearn.utils import shuffle\n",
    "\n"
   ]
  },
  {
   "cell_type": "code",
   "execution_count": 90,
   "metadata": {
    "scrolled": true
   },
   "outputs": [
    {
     "name": "stdout",
     "output_type": "stream",
     "text": [
      "['BRICKFACE' 'BRICKFACE' 'WINDOW' ..., 'CEMENT' 'WINDOW' 'FOLIAGE']\n",
      "(2100, 19)\n",
      "(2100,)\n"
     ]
    }
   ],
   "source": [
    "#x - attributes\n",
    "# y - class\n",
    "\n",
    "\n",
    "# x = np.genfromtxt('lala_test.txt',delimiter = ',',dtype=None,names=('CLASS','REGION-CENTROID-COL','REGION-CENTROID-ROW','REGION-PIXEL-COUNT','SHORT-LINE-DENSITY-5','SHORT-LINE-DENSITY-2','VEDGE-MEAN','VEDGE-SD','HEDGE-MEAN','HEDGE-SD','INTENSITY-MEAN','RAWRED-MEAN','RAWBLUE-MEAN','RAWGREEN-MEAN','EXRED-MEAN','EXBLUE-MEAN','EXGREEN-MEAN','VALUE-MEAN','SATURATION-MEAN','HUE-MEAN'))\n",
    "x = np.loadtxt('lala_test.txt',delimiter=',',dtype=None,usecols=[1,2,3,4,5,6,7,8,9,10,11,12,13,14,15,16,17,18,19])\n",
    "label = np.loadtxt('lala_test.txt',delimiter=',',usecols=[0],dtype = np.str)\n",
    "x, label = shuffle(x, label, random_state=55) #55\n",
    "print(label)\n",
    "print(x.shape)\n",
    "print(label.shape)"
   ]
  },
  {
   "cell_type": "code",
   "execution_count": 102,
   "metadata": {},
   "outputs": [
    {
     "name": "stdout",
     "output_type": "stream",
     "text": [
      "K-fold accuracy -  0.42619047619 + 0.0342007324229\n",
      "Random subsampling accuracy =  0.468055555556 + 0.0386089903005\n"
     ]
    }
   ],
   "source": [
    "\n",
    "# classifier = svm.SVC(decision_function_shape = 'ovo')\n",
    "# classifier.fit(x,label)\n",
    "\n",
    "#k-folds\n",
    "acc = []\n",
    "for i in range(0,6):\n",
    "    test,train = x[i*210:i*210+840,:],np.append(x[0:i*210,:],x[i*210+840:,:],axis=0)\n",
    "    testY,trainY = label[i*210:i*210+840],np.append(label[0:i*210],label[i*210+840:],axis=0)\n",
    "    classifier = svm.SVC()\n",
    "    classifier.fit(train,trainY)\n",
    "    y_predicted = classifier.predict(test)    \n",
    "    lal = metrics.accuracy_score(testY,y_predicted)\n",
    "    acc.append(lal)\n",
    "print(\"K-fold accuracy - \",sum(acc)/(i+1),\"+\",np.std(acc))\n",
    "\n",
    "accuracy = []\n",
    "rand = 50\n",
    "for i in range(0,6):\n",
    "    rand+=2;\n",
    "    xtrain,xtest,ytrain,ytest = train_test_split(x,label,test_size = 0.4,random_state=rand) #50\n",
    "    classifier = svm.SVC(kernel='rbf')\n",
    "    model = classifier.fit(xtrain,ytrain)\n",
    "    y_predicted = model.predict(xtest)\n",
    "    accurac = metrics.accuracy_score(ytest,y_predicted)\n",
    "    accuracy.append(accurac)\n",
    "print(\"Random subsampling accuracy = \",sum(accuracy)/6,\"+\",np.std(accuracy))\n",
    "# std_dev = \n",
    "# print(std_dev)"
   ]
  },
  {
   "cell_type": "code",
   "execution_count": null,
   "metadata": {
    "collapsed": true
   },
   "outputs": [],
   "source": []
  },
  {
   "cell_type": "code",
   "execution_count": null,
   "metadata": {
    "collapsed": true
   },
   "outputs": [],
   "source": []
  },
  {
   "cell_type": "code",
   "execution_count": null,
   "metadata": {
    "collapsed": true
   },
   "outputs": [],
   "source": []
  }
 ],
 "metadata": {
  "kernelspec": {
   "display_name": "Python 3",
   "language": "python",
   "name": "python3"
  },
  "language_info": {
   "codemirror_mode": {
    "name": "ipython",
    "version": 3
   },
   "file_extension": ".py",
   "mimetype": "text/x-python",
   "name": "python",
   "nbconvert_exporter": "python",
   "pygments_lexer": "ipython3",
   "version": "3.6.1"
  }
 },
 "nbformat": 4,
 "nbformat_minor": 2
}
