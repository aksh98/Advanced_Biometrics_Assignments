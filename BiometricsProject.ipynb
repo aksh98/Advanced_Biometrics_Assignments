{
  "nbformat": 4,
  "nbformat_minor": 0,
  "metadata": {
    "colab": {
      "name": "BiometricsProject.ipynb",
      "version": "0.3.2",
      "provenance": [],
      "collapsed_sections": []
    },
    "kernelspec": {
      "name": "python3",
      "display_name": "Python 3"
    },
    "accelerator": "GPU"
  },
  "cells": [
    {
      "cell_type": "markdown",
      "metadata": {
        "id": "view-in-github",
        "colab_type": "text"
      },
      "source": [
        "[View in Colaboratory](https://colab.research.google.com/github/aksh98/Advanced_Biometrics_Assignments/blob/master/BiometricsProject.ipynb)"
      ]
    },
    {
      "metadata": {
        "id": "3jdvLJQmZb-7",
        "colab_type": "code",
        "colab": {
          "base_uri": "https://localhost:8080/",
          "height": 34
        },
        "outputId": "900423ac-7518-4ae8-966f-aa9c0d89dc15"
      },
      "cell_type": "code",
      "source": [
        "from keras.applications.vgg16 import VGG16\n",
        "from keras.utils.vis_utils import plot_model\n",
        "from keras.preprocessing.image import ImageDataGenerator\n",
        "\n",
        "from keras.layers import Activation,Dropout,Bidirectional,Flatten,Dense,Conv2D,MaxPooling2D\n",
        "from keras.layers.recurrent import LSTM\n",
        "from keras.models import Sequential\n",
        "from sklearn.model_selection import train_test_split\n",
        "\n",
        "import os\n",
        "import numpy as np\n",
        "import math"
      ],
      "execution_count": 2,
      "outputs": [
        {
          "output_type": "stream",
          "text": [
            "Using TensorFlow backend.\n"
          ],
          "name": "stderr"
        }
      ]
    },
    {
      "metadata": {
        "id": "hxREJ9HHaI4h",
        "colab_type": "code",
        "colab": {
          "base_uri": "https://localhost:8080/",
          "height": 935
        },
        "outputId": "596ad718-2878-4ea9-930f-80292db79cd9"
      },
      "cell_type": "code",
      "source": [
        "#Args - input_tensor=\n",
        "model = VGG16()\n",
        "\n",
        "print(model.summary())\n",
        "# plot_model(model, to_file='vgg.png')\n",
        "\n"
      ],
      "execution_count": 15,
      "outputs": [
        {
          "output_type": "stream",
          "text": [
            "_________________________________________________________________\n",
            "Layer (type)                 Output Shape              Param #   \n",
            "=================================================================\n",
            "input_6 (InputLayer)         (None, 224, 224, 3)       0         \n",
            "_________________________________________________________________\n",
            "block1_conv1 (Conv2D)        (None, 224, 224, 64)      1792      \n",
            "_________________________________________________________________\n",
            "block1_conv2 (Conv2D)        (None, 224, 224, 64)      36928     \n",
            "_________________________________________________________________\n",
            "block1_pool (MaxPooling2D)   (None, 112, 112, 64)      0         \n",
            "_________________________________________________________________\n",
            "block2_conv1 (Conv2D)        (None, 112, 112, 128)     73856     \n",
            "_________________________________________________________________\n",
            "block2_conv2 (Conv2D)        (None, 112, 112, 128)     147584    \n",
            "_________________________________________________________________\n",
            "block2_pool (MaxPooling2D)   (None, 56, 56, 128)       0         \n",
            "_________________________________________________________________\n",
            "block3_conv1 (Conv2D)        (None, 56, 56, 256)       295168    \n",
            "_________________________________________________________________\n",
            "block3_conv2 (Conv2D)        (None, 56, 56, 256)       590080    \n",
            "_________________________________________________________________\n",
            "block3_conv3 (Conv2D)        (None, 56, 56, 256)       590080    \n",
            "_________________________________________________________________\n",
            "block3_pool (MaxPooling2D)   (None, 28, 28, 256)       0         \n",
            "_________________________________________________________________\n",
            "block4_conv1 (Conv2D)        (None, 28, 28, 512)       1180160   \n",
            "_________________________________________________________________\n",
            "block4_conv2 (Conv2D)        (None, 28, 28, 512)       2359808   \n",
            "_________________________________________________________________\n",
            "block4_conv3 (Conv2D)        (None, 28, 28, 512)       2359808   \n",
            "_________________________________________________________________\n",
            "block4_pool (MaxPooling2D)   (None, 14, 14, 512)       0         \n",
            "_________________________________________________________________\n",
            "block5_conv1 (Conv2D)        (None, 14, 14, 512)       2359808   \n",
            "_________________________________________________________________\n",
            "block5_conv2 (Conv2D)        (None, 14, 14, 512)       2359808   \n",
            "_________________________________________________________________\n",
            "block5_conv3 (Conv2D)        (None, 14, 14, 512)       2359808   \n",
            "_________________________________________________________________\n",
            "block5_pool (MaxPooling2D)   (None, 7, 7, 512)         0         \n",
            "_________________________________________________________________\n",
            "flatten (Flatten)            (None, 25088)             0         \n",
            "_________________________________________________________________\n",
            "fc1 (Dense)                  (None, 4096)              102764544 \n",
            "_________________________________________________________________\n",
            "fc2 (Dense)                  (None, 4096)              16781312  \n",
            "_________________________________________________________________\n",
            "predictions (Dense)          (None, 1000)              4097000   \n",
            "=================================================================\n",
            "Total params: 138,357,544\n",
            "Trainable params: 138,357,544\n",
            "Non-trainable params: 0\n",
            "_________________________________________________________________\n",
            "None\n"
          ],
          "name": "stdout"
        }
      ]
    },
    {
      "metadata": {
        "id": "DhwPDu5hKSn5",
        "colab_type": "code",
        "colab": {}
      },
      "cell_type": "code",
      "source": [
        "## ================================================================\n",
        "## ========= INPUTS ===============================================\n",
        "\n",
        "def video_to_frames(input_loc, output_loc):\n",
        "    \"\"\"    Args:\n",
        "        input_loc: Input video file.\n",
        "        output_loc: Output directory to save the frames.\n",
        "    Returns:\n",
        "        None\n",
        "    \"\"\"\n",
        "    import time\n",
        "    import cv2\n",
        "    import os\n",
        "    try:\n",
        "        os.mkdir(output_loc)\n",
        "    except OSError:\n",
        "        pass\n",
        " \n",
        "    time_start = time.time()\n",
        "    \n",
        "    cap = cv2.VideoCapture(input_loc)\n",
        "    \n",
        "    video_length = int(cap.get(cv2.cv.CV_CAP_PROP_FRAME_COUNT)) - 1\n",
        "    print (\"Number of frames: \", video_length)\n",
        "    count = 0\n",
        "    print (\"Converting video..\\n\")\n",
        "    # Start converting the video\n",
        "    while cap.isOpened():\n",
        "        # Extract the frame\n",
        "        ret, frame = cap.read()\n",
        "        # Write the results back to output location.\n",
        "        cv2.imwrite(output_loc + \"/%#05d.jpg\" % (count+1), frame)\n",
        "        count = count + 1\n",
        "        # If there are no more frames left\n",
        "        if (count > (video_length-1)):\n",
        "            # Log the time again\n",
        "            time_end = time.time()\n",
        "            # Release the feed\n",
        "            cap.release()\n",
        "            # Print stats\n",
        "            print (\"Done extracting frames.\\n%d frames extracted\" % count)\n",
        "            print (\"It took %d seconds forconversion.\" % (time_end-time_start))\n",
        "            break\n",
        "\n",
        "## ================================================================\n",
        "\n",
        "\n",
        "\n"
      ],
      "execution_count": 0,
      "outputs": []
    },
    {
      "metadata": {
        "id": "KIAZ54k7Yjyz",
        "colab_type": "code",
        "colab": {
          "base_uri": "https://localhost:8080/",
          "height": 138
        },
        "outputId": "203620cb-074f-409e-bba1-3f8236a77914"
      },
      "cell_type": "code",
      "source": [
        "!apt-get install -y -qq software-properties-common python-software-properties module-init-tools\n",
        "!add-apt-repository -y ppa:alessandro-strada/ppa 2>&1 > /dev/null\n",
        "!apt-get update -qq 2>&1 > /dev/null\n",
        "!apt-get -y install -qq google-drive-ocamlfuse fuse\n",
        "from google.colab import auth\n",
        "auth.authenticate_user()\n",
        "from oauth2client.client import GoogleCredentials\n",
        "creds = GoogleCredentials.get_application_default()\n",
        "import getpass\n",
        "!google-drive-ocamlfuse -headless -id={creds.client_id} -secret={creds.client_secret} < /dev/null 2>&1 | grep URL\n",
        "vcode = getpass.getpass()\n",
        "!echo {vcode} | google-drive-ocamlfuse -headless -id={creds.client_id} -secret={creds.client_secret}"
      ],
      "execution_count": 0,
      "outputs": [
        {
          "output_type": "stream",
          "text": [
            "gpg: keybox '/tmp/tmpe9wkic6e/pubring.gpg' created\n",
            "gpg: /tmp/tmpe9wkic6e/trustdb.gpg: trustdb created\n",
            "gpg: key AD5F235DF639B041: public key \"Launchpad PPA for Alessandro Strada\" imported\n",
            "gpg: Total number processed: 1\n",
            "gpg:               imported: 1\n",
            "Warning: apt-key output should not be parsed (stdout is not a terminal)\n"
          ],
          "name": "stdout"
        }
      ]
    },
    {
      "metadata": {
        "id": "Y6GN1lVsYmgu",
        "colab_type": "code",
        "colab": {
          "base_uri": "https://localhost:8080/",
          "height": 51
        },
        "outputId": "d56c53b9-6e1d-4bfe-be9b-4ebac98f6501"
      },
      "cell_type": "code",
      "source": [
        "!mkdir -p drive\n",
        "!google-drive-ocamlfuse drive"
      ],
      "execution_count": 4,
      "outputs": [
        {
          "output_type": "stream",
          "text": [
            "fuse: mountpoint is not empty\r\n",
            "fuse: if you are sure this is safe, use the 'nonempty' mount option\r\n"
          ],
          "name": "stdout"
        }
      ]
    },
    {
      "metadata": {
        "id": "wRd0gqHrYIDj",
        "colab_type": "code",
        "colab": {
          "base_uri": "https://localhost:8080/",
          "height": 51
        },
        "outputId": "eb311460-7ade-44ae-892e-a9c8ac64b3c7"
      },
      "cell_type": "code",
      "source": [
        "%cd drive\n",
        "%cd Colab Notebooks"
      ],
      "execution_count": 7,
      "outputs": [
        {
          "output_type": "stream",
          "text": [
            "/content/drive\n",
            "/content/drive/Colab Notebooks\n"
          ],
          "name": "stdout"
        }
      ]
    },
    {
      "metadata": {
        "id": "sf1EwssvbwH-",
        "colab_type": "code",
        "colab": {
          "base_uri": "https://localhost:8080/",
          "height": 34
        },
        "outputId": "2d3d90bd-a072-4362-db3a-9b33df4347a7"
      },
      "cell_type": "code",
      "source": [
        "!ls\n"
      ],
      "execution_count": 6,
      "outputs": [
        {
          "output_type": "stream",
          "text": [
            "datalab  drive\r\n"
          ],
          "name": "stdout"
        }
      ]
    },
    {
      "metadata": {
        "id": "hwOIcHgSbAt9",
        "colab_type": "code",
        "colab": {
          "base_uri": "https://localhost:8080/",
          "height": 170
        },
        "outputId": "c5289614-be58-4c6a-c9cd-574fa2ae7f9a"
      },
      "cell_type": "code",
      "source": [
        "# X_train, Y_train, X_valid, Y_valid = load_data()\n",
        "img_width, img_height = 224,224\n",
        "width_test,ht_test = 224,224\n",
        "train_data_dir = 'BiomProject/train'\n",
        "test_data_dir = 'BiomProject/test'\n",
        "\n",
        "train_samples = 2717\n",
        "test_samples = 153\n",
        "\n",
        "# train - 1537 (0-1536) original samples\n",
        "#         2717 (0-2716)total samples 250*250 - 1180\n",
        "\n",
        "# test - 0-86 = 87 swapped \n",
        "#        87-152 = original 158*215 97*150\n",
        "\n",
        "epochs = 50\n",
        "\n",
        "original_len = 1537  \n",
        "swapped_len = 1180\n",
        "\n",
        "swapped_test = 87\n",
        "original_test = 66 \n",
        "\n",
        "batch_size = 16\n",
        "\n",
        "# For Theano\n",
        "# Switch RGB to BGR order \n",
        "# x = x[:, ::-1, :, :]\n",
        "# # Subtract ImageNet mean pixel \n",
        "# x[:, :, :, 0] -= 103.939\n",
        "# x[:, :, :, 1] -= 116.779\n",
        "# x[:, :, :, 2] -= 123.68\n",
        "\n",
        "top_model_weights_path = 'BiomProject/bottleneck_model.h5'\n",
        "weights_path = 'BiomProject/vgg16_weights.h5'\n",
        "\n",
        "# model_weights_path = 'fc_model.h5'\n",
        "\n",
        "def save_bottleneck_features():\n",
        "    model = VGG16(include_top=False, weights = 'imagenet')\n",
        "    \n",
        "# Data Augmentation ------------------------------------------\n",
        "    train_datagen = ImageDataGenerator(\n",
        "        width_shift_range = 0.2,\n",
        "        height_shift_range = 0.2,\n",
        "        rescale = 1./255,\n",
        "        shear_range = 0.2,\n",
        "        zoom_range = 0.2,\n",
        "        horizontal_flip = True,\n",
        "        fill_mode = 'nearest')\n",
        "    print(\"augmentation done1\")\n",
        "    test_datagen = ImageDataGenerator(rescale = 1./255)\n",
        "#     print(\"train_Samples\",train_samples)\n",
        "    \n",
        "# Data Generator --------------------------------------------\n",
        "    train_generator = train_datagen.flow_from_directory(\n",
        "        train_data_dir,\n",
        "        target_size=(img_width, img_height),\n",
        "        batch_size=batch_size,\n",
        "        class_mode='binary',shuffle=False)\n",
        "\n",
        "    test_generator = test_datagen.flow_from_directory(\n",
        "        test_data_dir,\n",
        "        target_size = (width_test, ht_test),\n",
        "        batch_size = batch_size, \n",
        "        class_mode = None) # yield batches of data, no labels\n",
        "\n",
        "    train_samples = len(train_generator.filenames)  \n",
        "    test_samples = len(test_generator.filenames)\n",
        "    \n",
        "    print(\"train_Samples\",train_samples)\n",
        "    print(\"test_samples\",test_samples)\n",
        "    \n",
        "    print(\"data_generated2\")\n",
        "    predict_size_train = int(math.ceil(train_samples / batch_size))\n",
        "    predict_size_test = int(math.ceil(test_samples / batch_size))\n",
        "    # if predict_size_test not perfect - give hardcoded input\n",
        "    bottleneck_features_train = model.predict_generator(train_generator, predict_size_train)\n",
        "    print(\"predict_generator1\")\n",
        "    bottleneck_features_test = model.predict_generator(test_generator, predict_size_test)\n",
        "    print(\"predict_generator2\")\n",
        "#     np.save(open('bottleneck_features_train.npy','wb'),bottleneck_features_train)\n",
        "    np.save('bottleneck_features_train',bottleneck_features_train)\n",
        "    \n",
        "    np.save('bottleneck_features_test',bottleneck_features_test)\n",
        "    \n",
        "#     np.save(open('bottleneck_features_test.npy','wb'),bottleneck_features_test)\n",
        "    print(\"bottleneck_features_saved3\")\n",
        "    \n",
        "save_bottleneck_features()\n"
      ],
      "execution_count": 12,
      "outputs": [
        {
          "output_type": "stream",
          "text": [
            "augmentation done1\n",
            "Found 2716 images belonging to 2 classes.\n",
            "Found 152 images belonging to 2 classes.\n",
            "train_Samples 2716\n",
            "test_samples 152\n",
            "data_generated2\n",
            "predict_generator1\n",
            "predict_generator2\n",
            "bottleneck_features_saved3\n"
          ],
          "name": "stdout"
        }
      ]
    },
    {
      "metadata": {
        "id": "JO7M81yJYGDm",
        "colab_type": "code",
        "colab": {
          "base_uri": "https://localhost:8080/",
          "height": 2306
        },
        "outputId": "29074cdd-0a6b-4a50-dd0c-ded9ac2aa28f"
      },
      "cell_type": "code",
      "source": [
        "from keras.layers import BatchNormalization\n",
        "import matplotlib.pyplot as plt\n",
        "\n",
        "original_len = 1536  \n",
        "swapped_len = 1180\n",
        "\n",
        "swapped_test = 86\n",
        "original_test = 66 \n",
        "\n",
        "def train_top_model():\n",
        "    \n",
        "#     train_data = np.load(open('bottleneck_features_train.npy','wb'))\n",
        "#     test_data = np.load(open('bottleneck_features_test.npy','wb'))\n",
        "    train_data = np.load('bottleneck_features_train.npy')\n",
        "    test_data = np.load('bottleneck_features_test.npy')\n",
        "    print(train_data.shape)\n",
        "    print(test_data.shape)\n",
        "    \n",
        "    \n",
        "    ####  CHANGE THISSSSS -------------------\n",
        "    \n",
        "    train_labels = np.array([0]*original_len + [1]*swapped_len).astype('float32')\n",
        "    test_labels = np.array([0]*original_test + [1]*swapped_test).astype('float32')\n",
        "    \n",
        "    ##### -----------------------------------\n",
        "    \n",
        "    model = Sequential()\n",
        "    model.add(Flatten(input_shape=train_data.shape[1:]))\n",
        "    model.add(BatchNormalization())\n",
        "    model.add(Dense(256,activation='relu'))\n",
        "    model.add(Dropout(0.5))\n",
        "    model.add(Dense(1,activation = 'sigmoid'))\n",
        "    \n",
        "\n",
        "    model.compile(loss='binary_crossentropy',\n",
        "          optimizer='rmsprop',\n",
        "          metrics=['accuracy'])\n",
        "    \n",
        "    print(\"heylp\")\n",
        "    history = model.fit(train_data,train_labels,\n",
        "             epochs=epochs,batch_size = batch_size)\n",
        "    \n",
        "    model.save_weights(top_model_weights_path)\n",
        "    \n",
        "    (eval_loss,eval_accuracy) = model.evaluate(test_data,test_labels,batch_size=batch_size,verbose=1)\n",
        "    \n",
        "    plt.figure(1)  \n",
        "    \n",
        "     # summarize history for accuracy  \n",
        "    plt.subplot(211)  \n",
        "    plt.plot(history.history['acc'])  \n",
        "    plt.plot(history.history['val_acc'])  \n",
        "    plt.title('model accuracy')  \n",
        "    plt.ylabel('accuracy')  \n",
        "    plt.xlabel('epoch')  \n",
        "    plt.legend(['train', 'test'], loc='upper left')  \n",
        "\n",
        "     # summarize history for loss  \n",
        "\n",
        "    plt.subplot(212)  \n",
        "    plt.plot(history.history['loss'])  \n",
        "    plt.plot(history.history['val_loss'])  \n",
        "    plt.title('model loss')  \n",
        "    plt.ylabel('loss')  \n",
        "    plt.xlabel('epoch')  \n",
        "    plt.legend(['train', 'test'], loc='upper left')  \n",
        "    plt.show()\n",
        "    \n",
        "#     np.save('class_indices.npy',generator_top.class_indices)\n",
        "    \n",
        "    \n",
        "#     model.fit_generator(\n",
        "#         train_generator,\n",
        "#         steps_per_epoch= train_samples // batch_size,\n",
        "#         epochs=epochs,\n",
        "#         validation_data= test_generator,\n",
        "#         validation_steps= test_samples // batch_size)\n",
        "   \n",
        "\n",
        "train_top_model()\n",
        "# fine_tune()\n",
        "\n"
      ],
      "execution_count": 26,
      "outputs": [
        {
          "output_type": "stream",
          "text": [
            "(2716, 7, 7, 512)\n",
            "(152, 7, 7, 512)\n",
            "heylp\n",
            "Epoch 1/50\n",
            "2716/2716 [==============================] - 3s 1ms/step - loss: 0.3656 - acc: 0.9554\n",
            "Epoch 2/50\n",
            "2716/2716 [==============================] - 3s 995us/step - loss: 0.1921 - acc: 0.9794\n",
            "Epoch 3/50\n",
            "2716/2716 [==============================] - 3s 986us/step - loss: 0.1216 - acc: 0.9871\n",
            "Epoch 4/50\n",
            "2716/2716 [==============================] - 3s 985us/step - loss: 0.0997 - acc: 0.9897\n",
            "Epoch 5/50\n",
            "2716/2716 [==============================] - 3s 991us/step - loss: 0.0742 - acc: 0.9923\n",
            "Epoch 6/50\n",
            "2224/2716 [=======================>......] - ETA: 0s - loss: 0.0568 - acc: 0.9951"
          ],
          "name": "stdout"
        },
        {
          "output_type": "stream",
          "text": [
            "2716/2716 [==============================] - 3s 1ms/step - loss: 0.0526 - acc: 0.9952\n",
            "Epoch 7/50\n",
            "2716/2716 [==============================] - 3s 1ms/step - loss: 0.0436 - acc: 0.9959\n",
            "Epoch 8/50\n",
            "2716/2716 [==============================] - 3s 1ms/step - loss: 0.0332 - acc: 0.9974\n",
            "Epoch 9/50\n",
            "2716/2716 [==============================] - 3s 1ms/step - loss: 0.0271 - acc: 0.9974\n",
            "Epoch 10/50\n",
            "2716/2716 [==============================] - 3s 1ms/step - loss: 0.0425 - acc: 0.9956\n",
            "Epoch 11/50\n",
            "2716/2716 [==============================] - 3s 1ms/step - loss: 0.0326 - acc: 0.9963\n",
            "Epoch 12/50\n",
            " 784/2716 [=======>......................] - ETA: 1s - loss: 6.8058e-05 - acc: 1.0000"
          ],
          "name": "stdout"
        },
        {
          "output_type": "stream",
          "text": [
            "2716/2716 [==============================] - 3s 1ms/step - loss: 0.0364 - acc: 0.9963\n",
            "Epoch 13/50\n",
            "2716/2716 [==============================] - 3s 993us/step - loss: 0.0102 - acc: 0.9985\n",
            "Epoch 14/50\n",
            "2716/2716 [==============================] - 3s 1ms/step - loss: 0.0237 - acc: 0.9967\n",
            "Epoch 15/50\n",
            "2716/2716 [==============================] - 3s 1ms/step - loss: 0.0392 - acc: 0.9952\n",
            "Epoch 16/50\n",
            "2716/2716 [==============================] - 3s 1ms/step - loss: 0.0194 - acc: 0.9982\n",
            "Epoch 17/50\n",
            "2716/2716 [==============================] - 3s 1ms/step - loss: 0.0238 - acc: 0.9967\n",
            "Epoch 18/50\n",
            " 384/2716 [===>..........................] - ETA: 2s - loss: 0.0598 - acc: 0.9948"
          ],
          "name": "stdout"
        },
        {
          "output_type": "stream",
          "text": [
            "2716/2716 [==============================] - 3s 1ms/step - loss: 0.0202 - acc: 0.9982\n",
            "Epoch 19/50\n",
            "2716/2716 [==============================] - 3s 1ms/step - loss: 0.0213 - acc: 0.9974\n",
            "Epoch 20/50\n",
            "2716/2716 [==============================] - 3s 1ms/step - loss: 0.0244 - acc: 0.9982\n",
            "Epoch 21/50\n",
            "2716/2716 [==============================] - 3s 1ms/step - loss: 0.0301 - acc: 0.9978\n",
            "Epoch 22/50\n",
            "2716/2716 [==============================] - 3s 1ms/step - loss: 6.0669e-04 - acc: 0.9993\n",
            "Epoch 23/50\n",
            "2716/2716 [==============================] - 3s 1ms/step - loss: 0.0024 - acc: 0.9993\n",
            "Epoch 24/50\n",
            " 304/2716 [==>...........................] - ETA: 2s - loss: 0.0312 - acc: 0.9967"
          ],
          "name": "stdout"
        },
        {
          "output_type": "stream",
          "text": [
            "2716/2716 [==============================] - 3s 1ms/step - loss: 0.0038 - acc: 0.9996\n",
            "Epoch 25/50\n",
            "2716/2716 [==============================] - 3s 1ms/step - loss: 0.0098 - acc: 0.9993\n",
            "Epoch 26/50\n",
            "2716/2716 [==============================] - 3s 1ms/step - loss: 0.0140 - acc: 0.9989\n",
            "Epoch 27/50\n",
            "2716/2716 [==============================] - 3s 1ms/step - loss: 0.0081 - acc: 0.9993\n",
            "Epoch 28/50\n",
            "2716/2716 [==============================] - 3s 1ms/step - loss: 0.0179 - acc: 0.9985\n",
            "Epoch 29/50\n",
            "2716/2716 [==============================] - 3s 994us/step - loss: 1.0399e-04 - acc: 1.0000\n",
            "Epoch 30/50\n",
            " 560/2716 [=====>........................] - ETA: 2s - loss: 0.0100 - acc: 0.9964"
          ],
          "name": "stdout"
        },
        {
          "output_type": "stream",
          "text": [
            "2716/2716 [==============================] - 3s 1ms/step - loss: 0.0080 - acc: 0.9989\n",
            "Epoch 31/50\n",
            "2716/2716 [==============================] - 3s 1ms/step - loss: 0.0127 - acc: 0.9989\n",
            "Epoch 32/50\n",
            "2716/2716 [==============================] - 3s 1ms/step - loss: 0.0059 - acc: 0.9996\n",
            "Epoch 33/50\n",
            "2716/2716 [==============================] - 3s 988us/step - loss: 0.0215 - acc: 0.9982\n",
            "Epoch 34/50\n",
            "2716/2716 [==============================] - 3s 993us/step - loss: 0.0036 - acc: 0.9993\n",
            "Epoch 35/50\n",
            "2716/2716 [==============================] - 3s 1ms/step - loss: 0.0077 - acc: 0.9993\n",
            "Epoch 36/50\n",
            " 608/2716 [=====>........................] - ETA: 2s - loss: 1.0765e-07 - acc: 1.0000"
          ],
          "name": "stdout"
        },
        {
          "output_type": "stream",
          "text": [
            "2716/2716 [==============================] - 3s 1ms/step - loss: 0.0052 - acc: 0.9993\n",
            "Epoch 37/50\n",
            "2716/2716 [==============================] - 3s 1ms/step - loss: 2.1108e-04 - acc: 1.0000\n",
            "Epoch 38/50\n",
            "2716/2716 [==============================] - 3s 992us/step - loss: 0.0011 - acc: 0.9996\n",
            "Epoch 39/50\n",
            "2716/2716 [==============================] - 3s 986us/step - loss: 0.0060 - acc: 0.9996\n",
            "Epoch 40/50\n",
            "2716/2716 [==============================] - 3s 986us/step - loss: 0.0038 - acc: 0.9996\n",
            "Epoch 41/50\n",
            "2716/2716 [==============================] - 3s 981us/step - loss: 0.0126 - acc: 0.9985\n",
            "Epoch 42/50\n",
            " 624/2716 [=====>........................] - ETA: 2s - loss: 1.0917e-07 - acc: 1.0000"
          ],
          "name": "stdout"
        },
        {
          "output_type": "stream",
          "text": [
            "2716/2716 [==============================] - 3s 992us/step - loss: 0.0081 - acc: 0.9993\n",
            "Epoch 43/50\n",
            "2716/2716 [==============================] - 3s 982us/step - loss: 0.0079 - acc: 0.9989\n",
            "Epoch 44/50\n",
            "2716/2716 [==============================] - 3s 1ms/step - loss: 0.0031 - acc: 0.9996\n",
            "Epoch 45/50\n",
            "2716/2716 [==============================] - 3s 985us/step - loss: 0.0059 - acc: 0.9996\n",
            "Epoch 46/50\n",
            "2716/2716 [==============================] - 3s 989us/step - loss: 0.0059 - acc: 0.9996\n",
            "Epoch 47/50\n",
            "2716/2716 [==============================] - 3s 977us/step - loss: 0.0040 - acc: 0.9993\n",
            "Epoch 48/50\n",
            " 768/2716 [=======>......................] - ETA: 1s - loss: 0.0139 - acc: 0.9987"
          ],
          "name": "stdout"
        },
        {
          "output_type": "stream",
          "text": [
            "2716/2716 [==============================] - 3s 997us/step - loss: 0.0165 - acc: 0.9974\n",
            "Epoch 49/50\n",
            "2716/2716 [==============================] - 3s 992us/step - loss: 0.0059 - acc: 0.9996\n",
            "Epoch 50/50\n",
            "2716/2716 [==============================] - 3s 984us/step - loss: 0.0033 - acc: 0.9996\n",
            "152/152 [==============================] - 0s 2ms/step\n"
          ],
          "name": "stdout"
        },
        {
          "output_type": "error",
          "ename": "KeyError",
          "evalue": "ignored",
          "traceback": [
            "\u001b[0;31m---------------------------------------------------------------------------\u001b[0m",
            "\u001b[0;31mKeyError\u001b[0m                                  Traceback (most recent call last)",
            "\u001b[0;32m<ipython-input-26-348bd081efd5>\u001b[0m in \u001b[0;36m<module>\u001b[0;34m()\u001b[0m\n\u001b[1;32m     78\u001b[0m \u001b[0;34m\u001b[0m\u001b[0m\n\u001b[1;32m     79\u001b[0m \u001b[0;34m\u001b[0m\u001b[0m\n\u001b[0;32m---> 80\u001b[0;31m \u001b[0mtrain_top_model\u001b[0m\u001b[0;34m(\u001b[0m\u001b[0;34m)\u001b[0m\u001b[0;34m\u001b[0m\u001b[0m\n\u001b[0m\u001b[1;32m     81\u001b[0m \u001b[0;31m# fine_tune()\u001b[0m\u001b[0;34m\u001b[0m\u001b[0;34m\u001b[0m\u001b[0m\n\u001b[1;32m     82\u001b[0m \u001b[0;34m\u001b[0m\u001b[0m\n",
            "\u001b[0;32m<ipython-input-26-348bd081efd5>\u001b[0m in \u001b[0;36mtrain_top_model\u001b[0;34m()\u001b[0m\n\u001b[1;32m     50\u001b[0m     \u001b[0mplt\u001b[0m\u001b[0;34m.\u001b[0m\u001b[0msubplot\u001b[0m\u001b[0;34m(\u001b[0m\u001b[0;36m211\u001b[0m\u001b[0;34m)\u001b[0m\u001b[0;34m\u001b[0m\u001b[0m\n\u001b[1;32m     51\u001b[0m     \u001b[0mplt\u001b[0m\u001b[0;34m.\u001b[0m\u001b[0mplot\u001b[0m\u001b[0;34m(\u001b[0m\u001b[0mhistory\u001b[0m\u001b[0;34m.\u001b[0m\u001b[0mhistory\u001b[0m\u001b[0;34m[\u001b[0m\u001b[0;34m'acc'\u001b[0m\u001b[0;34m]\u001b[0m\u001b[0;34m)\u001b[0m\u001b[0;34m\u001b[0m\u001b[0m\n\u001b[0;32m---> 52\u001b[0;31m     \u001b[0mplt\u001b[0m\u001b[0;34m.\u001b[0m\u001b[0mplot\u001b[0m\u001b[0;34m(\u001b[0m\u001b[0mhistory\u001b[0m\u001b[0;34m.\u001b[0m\u001b[0mhistory\u001b[0m\u001b[0;34m[\u001b[0m\u001b[0;34m'val_acc'\u001b[0m\u001b[0;34m]\u001b[0m\u001b[0;34m)\u001b[0m\u001b[0;34m\u001b[0m\u001b[0m\n\u001b[0m\u001b[1;32m     53\u001b[0m     \u001b[0mplt\u001b[0m\u001b[0;34m.\u001b[0m\u001b[0mtitle\u001b[0m\u001b[0;34m(\u001b[0m\u001b[0;34m'model accuracy'\u001b[0m\u001b[0;34m)\u001b[0m\u001b[0;34m\u001b[0m\u001b[0m\n\u001b[1;32m     54\u001b[0m     \u001b[0mplt\u001b[0m\u001b[0;34m.\u001b[0m\u001b[0mylabel\u001b[0m\u001b[0;34m(\u001b[0m\u001b[0;34m'accuracy'\u001b[0m\u001b[0;34m)\u001b[0m\u001b[0;34m\u001b[0m\u001b[0m\n",
            "\u001b[0;31mKeyError\u001b[0m: 'val_acc'"
          ]
        },
        {
          "output_type": "display_data",
          "data": {
            "image/png": "[encoded data removed]",
            "text/plain": [
              "<matplotlib.figure.Figure at 0x7f7b3a6c4d30>"
            ]
          },
          "metadata": {
            "tags": []
          }
        }
      ]
    },
    {
      "metadata": {
        "id": "3Jgt2fAJLL0l",
        "colab_type": "code",
        "colab": {}
      },
      "cell_type": "code",
      "source": [
        " def fine_tune():\n",
        "    model = VGG16(weights='imagenet',include_top=False)\n",
        "    \n",
        "    top_model = Sequential()\n",
        "    top_model.add(Flatten(input_shape = model.output_shape[1:]))\n",
        "    top_model.add(Dense(256,activation='relu'))\n",
        "    top_model.add(Dropout(0.5))\n",
        "    top_model.add(Dense(1,activation='sigmoid'))\n",
        "    \n",
        "    top_model.load_weights(top_model_weights_path)\n",
        "    \n",
        "    model.add(top_model)\n",
        "    \n",
        "    for layer in model.layers[:25]:\n",
        "        layer.trainable = False\n",
        "    \n",
        "    model.compile(loss='binary_crossentropy',\n",
        "                 optimizer=optimizers.SGD(lr=0.0001,momentum=0.9),\n",
        "                 metrics=['accuracy'])\n",
        "    \n",
        "    train_datagen = ImageDataGenerator(rescale = 1./255,\n",
        "          zoom_range=0.2,\n",
        "          shear_range=0.2,\n",
        "          horizontal_flip=True,\n",
        "          height_shift_range = 0.2,\n",
        "          width_shift_range = 0.2,\n",
        "          fill_mode='nearest')\n",
        "    \n",
        "    test_datagen = ImageDataGenerator(rescale=1./255)\n",
        "    \n",
        "    train_generator = train_datagen.flow_from_directory(train_data_dir,\n",
        "                      target_size = (img_height,img_width),\n",
        "                      batch_size = batch_size,class_mode='binary')\n",
        "    \n",
        "    test_generator = test_datagen.flow_from_directory(test_data_dir,\n",
        "                      target_size = (ht_test,width_test),\n",
        "                      batch_size = batch_size,class_mode='binary')\n",
        "    \n",
        "    train_samples = len(train_generator.filenames)  \n",
        "    test_samples = len(test_generator.filenames)\n",
        "    \n",
        "    model.fit_generator(\n",
        "        train_generator,\n",
        "        samples_per_epoch=train_samples,\n",
        "        epochs=epochs,\n",
        "        validation_data=test_generator,\n",
        "        nb_val_samples=test_samples)\n",
        "     \n",
        "fine_tune()"
      ],
      "execution_count": 0,
      "outputs": []
    }
  ]
}