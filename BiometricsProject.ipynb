{
  "nbformat": 4,
  "nbformat_minor": 0,
  "metadata": {
    "colab": {
      "name": "BiometricsProject.ipynb",
      "version": "0.3.2",
      "provenance": [],
      "collapsed_sections": []
    },
    "kernelspec": {
      "name": "python3",
      "display_name": "Python 3"
    },
    "accelerator": "GPU"
  },
  "cells": [
    {
      "cell_type": "markdown",
      "metadata": {
        "id": "view-in-github",
        "colab_type": "text"
      },
      "source": [
        "[View in Colaboratory](https://colab.research.google.com/github/aksh98/Advanced_Biometrics_Assignments/blob/master/BiometricsProject.ipynb)"
      ]
    },
    {
      "metadata": {
        "id": "3jdvLJQmZb-7",
        "colab_type": "code",
        "colab": {
          "base_uri": "https://localhost:8080/",
          "height": 34
        },
        "outputId": "900423ac-7518-4ae8-966f-aa9c0d89dc15"
      },
      "cell_type": "code",
      "source": [
        "from keras.applications.vgg16 import VGG16\n",
        "from keras.utils.vis_utils import plot_model\n",
        "from keras.preprocessing.image import ImageDataGenerator\n",
        "\n",
        "from keras.layers import Activation,Dropout,Bidirectional,Flatten,Dense,Conv2D,MaxPooling2D\n",
        "from keras.layers.recurrent import LSTM\n",
        "from keras.models import Sequential\n",
        "from sklearn.model_selection import train_test_split\n",
        "\n",
        "import os\n",
        "import numpy as np\n",
        "import math"
      ],
      "execution_count": 2,
      "outputs": [
        {
          "output_type": "stream",
          "text": [
            "Using TensorFlow backend.\n"
          ],
          "name": "stderr"
        }
      ]
    },
    {
      "metadata": {
        "id": "hxREJ9HHaI4h",
        "colab_type": "code",
        "colab": {
          "base_uri": "https://localhost:8080/",
          "height": 935
        },
        "outputId": "596ad718-2878-4ea9-930f-80292db79cd9"
      },
      "cell_type": "code",
      "source": [
        "#Args - input_tensor=\n",
        "model = VGG16()\n",
        "\n",
        "print(model.summary())\n",
        "# plot_model(model, to_file='vgg.png')\n",
        "\n"
      ],
      "execution_count": 15,
      "outputs": [
        {
          "output_type": "stream",
          "text": [
            "_________________________________________________________________\n",
            "Layer (type)                 Output Shape              Param #   \n",
            "=================================================================\n",
            "input_6 (InputLayer)         (None, 224, 224, 3)       0         \n",
            "_________________________________________________________________\n",
            "block1_conv1 (Conv2D)        (None, 224, 224, 64)      1792      \n",
            "_________________________________________________________________\n",
            "block1_conv2 (Conv2D)        (None, 224, 224, 64)      36928     \n",
            "_________________________________________________________________\n",
            "block1_pool (MaxPooling2D)   (None, 112, 112, 64)      0         \n",
            "_________________________________________________________________\n",
            "block2_conv1 (Conv2D)        (None, 112, 112, 128)     73856     \n",
            "_________________________________________________________________\n",
            "block2_conv2 (Conv2D)        (None, 112, 112, 128)     147584    \n",
            "_________________________________________________________________\n",
            "block2_pool (MaxPooling2D)   (None, 56, 56, 128)       0         \n",
            "_________________________________________________________________\n",
            "block3_conv1 (Conv2D)        (None, 56, 56, 256)       295168    \n",
            "_________________________________________________________________\n",
            "block3_conv2 (Conv2D)        (None, 56, 56, 256)       590080    \n",
            "_________________________________________________________________\n",
            "block3_conv3 (Conv2D)        (None, 56, 56, 256)       590080    \n",
            "_________________________________________________________________\n",
            "block3_pool (MaxPooling2D)   (None, 28, 28, 256)       0         \n",
            "_________________________________________________________________\n",
            "block4_conv1 (Conv2D)        (None, 28, 28, 512)       1180160   \n",
            "_________________________________________________________________\n",
            "block4_conv2 (Conv2D)        (None, 28, 28, 512)       2359808   \n",
            "_________________________________________________________________\n",
            "block4_conv3 (Conv2D)        (None, 28, 28, 512)       2359808   \n",
            "_________________________________________________________________\n",
            "block4_pool (MaxPooling2D)   (None, 14, 14, 512)       0         \n",
            "_________________________________________________________________\n",
            "block5_conv1 (Conv2D)        (None, 14, 14, 512)       2359808   \n",
            "_________________________________________________________________\n",
            "block5_conv2 (Conv2D)        (None, 14, 14, 512)       2359808   \n",
            "_________________________________________________________________\n",
            "block5_conv3 (Conv2D)        (None, 14, 14, 512)       2359808   \n",
            "_________________________________________________________________\n",
            "block5_pool (MaxPooling2D)   (None, 7, 7, 512)         0         \n",
            "_________________________________________________________________\n",
            "flatten (Flatten)            (None, 25088)             0         \n",
            "_________________________________________________________________\n",
            "fc1 (Dense)                  (None, 4096)              102764544 \n",
            "_________________________________________________________________\n",
            "fc2 (Dense)                  (None, 4096)              16781312  \n",
            "_________________________________________________________________\n",
            "predictions (Dense)          (None, 1000)              4097000   \n",
            "=================================================================\n",
            "Total params: 138,357,544\n",
            "Trainable params: 138,357,544\n",
            "Non-trainable params: 0\n",
            "_________________________________________________________________\n",
            "None\n"
          ],
          "name": "stdout"
        }
      ]
    },
    {
      "metadata": {
        "id": "DhwPDu5hKSn5",
        "colab_type": "code",
        "colab": {}
      },
      "cell_type": "code",
      "source": [
        "## ================================================================\n",
        "## ========= INPUTS ===============================================\n",
        "\n",
        "def video_to_frames(input_loc, output_loc):\n",
        "    \"\"\"    Args:\n",
        "        input_loc: Input video file.\n",
        "        output_loc: Output directory to save the frames.\n",
        "    Returns:\n",
        "        None\n",
        "    \"\"\"\n",
        "    import time\n",
        "    import cv2\n",
        "    import os\n",
        "    try:\n",
        "        os.mkdir(output_loc)\n",
        "    except OSError:\n",
        "        pass\n",
        " \n",
        "    time_start = time.time()\n",
        "    \n",
        "    cap = cv2.VideoCapture(input_loc)\n",
        "    \n",
        "    video_length = int(cap.get(cv2.cv.CV_CAP_PROP_FRAME_COUNT)) - 1\n",
        "    print (\"Number of frames: \", video_length)\n",
        "    count = 0\n",
        "    print (\"Converting video..\\n\")\n",
        "    # Start converting the video\n",
        "    while cap.isOpened():\n",
        "        # Extract the frame\n",
        "        ret, frame = cap.read()\n",
        "        # Write the results back to output location.\n",
        "        cv2.imwrite(output_loc + \"/%#05d.jpg\" % (count+1), frame)\n",
        "        count = count + 1\n",
        "        # If there are no more frames left\n",
        "        if (count > (video_length-1)):\n",
        "            # Log the time again\n",
        "            time_end = time.time()\n",
        "            # Release the feed\n",
        "            cap.release()\n",
        "            # Print stats\n",
        "            print (\"Done extracting frames.\\n%d frames extracted\" % count)\n",
        "            print (\"It took %d seconds forconversion.\" % (time_end-time_start))\n",
        "            break\n",
        "\n",
        "## ================================================================\n",
        "\n",
        "\n",
        "\n"
      ],
      "execution_count": 0,
      "outputs": []
    },
    {
      "metadata": {
        "id": "KIAZ54k7Yjyz",
        "colab_type": "code",
        "colab": {
          "base_uri": "https://localhost:8080/",
          "height": 138
        },
        "outputId": "203620cb-074f-409e-bba1-3f8236a77914"
      },
      "cell_type": "code",
      "source": [
        "!apt-get install -y -qq software-properties-common python-software-properties module-init-tools\n",
        "!add-apt-repository -y ppa:alessandro-strada/ppa 2>&1 > /dev/null\n",
        "!apt-get update -qq 2>&1 > /dev/null\n",
        "!apt-get -y install -qq google-drive-ocamlfuse fuse\n",
        "from google.colab import auth\n",
        "auth.authenticate_user()\n",
        "from oauth2client.client import GoogleCredentials\n",
        "creds = GoogleCredentials.get_application_default()\n",
        "import getpass\n",
        "!google-drive-ocamlfuse -headless -id={creds.client_id} -secret={creds.client_secret} < /dev/null 2>&1 | grep URL\n",
        "vcode = getpass.getpass()\n",
        "!echo {vcode} | google-drive-ocamlfuse -headless -id={creds.client_id} -secret={creds.client_secret}"
      ],
      "execution_count": 0,
      "outputs": [
        {
          "output_type": "stream",
          "text": [
            "gpg: keybox '/tmp/tmpe9wkic6e/pubring.gpg' created\n",
            "gpg: /tmp/tmpe9wkic6e/trustdb.gpg: trustdb created\n",
            "gpg: key AD5F235DF639B041: public key \"Launchpad PPA for Alessandro Strada\" imported\n",
            "gpg: Total number processed: 1\n",
            "gpg:               imported: 1\n",
            "Warning: apt-key output should not be parsed (stdout is not a terminal)\n"
          ],
          "name": "stdout"
        }
      ]
    },
    {
      "metadata": {
        "id": "Y6GN1lVsYmgu",
        "colab_type": "code",
        "colab": {
          "base_uri": "https://localhost:8080/",
          "height": 51
        },
        "outputId": "d56c53b9-6e1d-4bfe-be9b-4ebac98f6501"
      },
      "cell_type": "code",
      "source": [
        "!mkdir -p drive\n",
        "!google-drive-ocamlfuse drive"
      ],
      "execution_count": 4,
      "outputs": [
        {
          "output_type": "stream",
          "text": [
            "fuse: mountpoint is not empty\r\n",
            "fuse: if you are sure this is safe, use the 'nonempty' mount option\r\n"
          ],
          "name": "stdout"
        }
      ]
    },
    {
      "metadata": {
        "id": "wRd0gqHrYIDj",
        "colab_type": "code",
        "colab": {
          "base_uri": "https://localhost:8080/",
          "height": 51
        },
        "outputId": "eb311460-7ade-44ae-892e-a9c8ac64b3c7"
      },
      "cell_type": "code",
      "source": [
        "%cd drive\n",
        "%cd Colab Notebooks"
      ],
      "execution_count": 7,
      "outputs": [
        {
          "output_type": "stream",
          "text": [
            "/content/drive\n",
            "/content/drive/Colab Notebooks\n"
          ],
          "name": "stdout"
        }
      ]
    },
    {
      "metadata": {
        "id": "sf1EwssvbwH-",
        "colab_type": "code",
        "colab": {
          "base_uri": "https://localhost:8080/",
          "height": 34
        },
        "outputId": "2d3d90bd-a072-4362-db3a-9b33df4347a7"
      },
      "cell_type": "code",
      "source": [
        "!ls\n"
      ],
      "execution_count": 6,
      "outputs": [
        {
          "output_type": "stream",
          "text": [
            "datalab  drive\r\n"
          ],
          "name": "stdout"
        }
      ]
    },
    {
      "metadata": {
        "id": "hwOIcHgSbAt9",
        "colab_type": "code",
        "colab": {
          "base_uri": "https://localhost:8080/",
          "height": 170
        },
        "outputId": "a74780ec-4820-4ae4-a690-8dcca65444e9"
      },
      "cell_type": "code",
      "source": [
        "# X_train, Y_train, X_valid, Y_valid = load_data()\n",
        "img_width, img_height = 224,224\n",
        "width_test,ht_test = 200,150\n",
        "train_data_dir = 'BiomProject/train'\n",
        "test_data_dir = 'BiomProject/test'\n",
        "\n",
        "train_samples = 2717\n",
        "test_samples = 153\n",
        "\n",
        "# train - 1537 (0-1536) original samples\n",
        "#         2717 (0-2716)total samples 250*250 - 1180\n",
        "\n",
        "# test - 0-86 = 87 swapped \n",
        "#        87-152 = original 158*215 97*150\n",
        "\n",
        "epochs = 50\n",
        "\n",
        "original_len = 1537  \n",
        "swapped_len = 1180\n",
        "\n",
        "swapped_test = 87\n",
        "original_test = 66 \n",
        "\n",
        "batch_size = 16\n",
        "\n",
        "# For Theano\n",
        "# Switch RGB to BGR order \n",
        "# x = x[:, ::-1, :, :]\n",
        "# # Subtract ImageNet mean pixel \n",
        "# x[:, :, :, 0] -= 103.939\n",
        "# x[:, :, :, 1] -= 116.779\n",
        "# x[:, :, :, 2] -= 123.68\n",
        "\n",
        "top_model_weights_path = 'BiomProject/bottleneck_model.h5'\n",
        "weights_path = 'BiomProject/vgg16_weights.h5'\n",
        "\n",
        "# model_weights_path = 'fc_model.h5'\n",
        "\n",
        "def save_bottleneck_features():\n",
        "    model = VGG16(include_top=False, weights = 'imagenet')\n",
        "    \n",
        "# Data Augmentation ------------------------------------------\n",
        "    train_datagen = ImageDataGenerator(\n",
        "        width_shift_range = 0.2,\n",
        "        height_shift_range = 0.2,\n",
        "        rescale = 1./255,\n",
        "        shear_range = 0.2,\n",
        "        zoom_range = 0.2,\n",
        "        horizontal_flip = True,\n",
        "        fill_mode = 'nearest')\n",
        "    print(\"augmentation done1\")\n",
        "    test_datagen = ImageDataGenerator(rescale = 1./255)\n",
        "#     print(\"train_Samples\",train_samples)\n",
        "    \n",
        "# Data Generator --------------------------------------------\n",
        "    train_generator = train_datagen.flow_from_directory(\n",
        "        train_data_dir,\n",
        "        target_size=(img_width, img_height),\n",
        "        batch_size=batch_size,\n",
        "        class_mode='binary',shuffle=False)\n",
        "\n",
        "    test_generator = test_datagen.flow_from_directory(\n",
        "        test_data_dir,\n",
        "        target_size = (width_test, ht_test),\n",
        "        batch_size = batch_size, \n",
        "        class_mode = None) # yield batches of data, no labels\n",
        "\n",
        "    train_samples = len(train_generator.filenames)  \n",
        "    test_samples = len(test_generator.filenames)\n",
        "    \n",
        "    print(\"train_Samples\",train_samples)\n",
        "    print(\"test_samples\",test_samples)\n",
        "    \n",
        "    print(\"data_generated2\")\n",
        "    predict_size_train = int(math.ceil(train_samples / batch_size))\n",
        "    predict_size_test = int(math.ceil(test_samples / batch_size))\n",
        "    # if predict_size_test not perfect - give hardcoded input\n",
        "    bottleneck_features_train = model.predict_generator(train_generator, predict_size_train)\n",
        "    print(\"predict_generator1\")\n",
        "    bottleneck_features_test = model.predict_generator(test_generator, predict_size_test)\n",
        "    print(\"predict_generator2\")\n",
        "#     np.save(open('bottleneck_features_train.npy','wb'),bottleneck_features_train)\n",
        "    np.save('bottleneck_features_train',bottleneck_features_train)\n",
        "    \n",
        "    np.save('bottleneck_features_test',bottleneck_features_test)\n",
        "    \n",
        "#     np.save(open('bottleneck_features_test.npy','wb'),bottleneck_features_test)\n",
        "    print(\"bottleneck_features_saved3\")\n",
        "    \n",
        "save_bottleneck_features()\n"
      ],
      "execution_count": 8,
      "outputs": [
        {
          "output_type": "stream",
          "text": [
            "augmentation done1\n",
            "Found 2716 images belonging to 2 classes.\n",
            "Found 152 images belonging to 2 classes.\n",
            "train_Samples 2716\n",
            "test_samples 152\n",
            "data_generated2\n",
            "predict_generator1\n",
            "predict_generator2\n",
            "bottleneck_features_saved3\n"
          ],
          "name": "stdout"
        }
      ]
    },
    {
      "metadata": {
        "id": "JO7M81yJYGDm",
        "colab_type": "code",
        "colab": {
          "base_uri": "https://localhost:8080/",
          "height": 6236
        },
        "outputId": "c1f1cb7e-0310-4f16-975f-24a7993f23d1"
      },
      "cell_type": "code",
      "source": [
        "from keras.layers import BatchNormalization\n",
        "\n",
        "original_len = 1536  \n",
        "swapped_len = 1180\n",
        "\n",
        "swapped_test = 86\n",
        "original_test = 66 \n",
        "\n",
        "def train_top_model():\n",
        "    \n",
        "#     train_data = np.load(open('bottleneck_features_train.npy','wb'))\n",
        "#     test_data = np.load(open('bottleneck_features_test.npy','wb'))\n",
        "    train_data = np.load('bottleneck_features_train.npy')\n",
        "    test_data = np.load('bottleneck_features_test.npy')\n",
        "    print(train_data.shape)\n",
        "    print(test_data.shape)\n",
        "    \n",
        "    \n",
        "    ####  CHANGE THISSSSS -------------------\n",
        "    \n",
        "    train_labels = np.array([1]*original_len + [0]*swapped_len)\n",
        "    test_labels = np.array([1]*original_test + [0]*swapped_test)\n",
        "    \n",
        "    ##### -----------------------------------\n",
        "    \n",
        "    model = Sequential()\n",
        "    model.add(Flatten(input_shape=train_data.shape[1:]))\n",
        "    model.add(BatchNormalization())\n",
        "    model.add(Dense(256,activation='relu'))\n",
        "    model.add(Dropout(0.5))\n",
        "    model.add(Dense(1,activation = 'sigmoid'))\n",
        "    \n",
        "\n",
        "    model.compile(loss='binary_crossentropy',\n",
        "          optimizer='rmsprop',\n",
        "          metrics=['accuracy'])\n",
        "    \n",
        "    history = model.fit(train_data,train_labels,\n",
        "             epochs=epochs,\n",
        "             batch_size = batch_size,\n",
        "             test_data = (test_data,test_labels))\n",
        "    \n",
        "    model.save_weights(top_model_weights_path)\n",
        "    \n",
        "    (eval_loss,eval_accuracy) = model.evaluate(test_data,test_labels,batch_size=batch_size,verbose=1)\n",
        "    \n",
        "    plt.figure(1)  \n",
        "    \n",
        "     # summarize history for accuracy  \n",
        "    plt.subplot(211)  \n",
        "    plt.plot(history.history['acc'])  \n",
        "    plt.plot(history.history['val_acc'])  \n",
        "    plt.title('model accuracy')  \n",
        "    plt.ylabel('accuracy')  \n",
        "    plt.xlabel('epoch')  \n",
        "    plt.legend(['train', 'test'], loc='upper left')  \n",
        "\n",
        "     # summarize history for loss  \n",
        "\n",
        "    plt.subplot(212)  \n",
        "    plt.plot(history.history['loss'])  \n",
        "    plt.plot(history.history['val_loss'])  \n",
        "    plt.title('model loss')  \n",
        "    plt.ylabel('loss')  \n",
        "    plt.xlabel('epoch')  \n",
        "    plt.legend(['train', 'test'], loc='upper left')  \n",
        "    plt.show()\n",
        "    \n",
        "#     np.save('class_indices.npy',generator_top.class_indices)\n",
        "    \n",
        "    \n",
        "#     model.fit_generator(\n",
        "#         train_generator,\n",
        "#         steps_per_epoch= train_samples // batch_size,\n",
        "#         epochs=epochs,\n",
        "#         validation_data= test_generator,\n",
        "#         validation_steps= test_samples // batch_size)\n",
        "   \n",
        "\n",
        "def fine_tune():\n",
        "    model = VGG16(weights='imagenet',include_top=False)\n",
        "    \n",
        "    top_model = Sequential()\n",
        "    top_model.add(Flatten(input_shape = model.output_shape[1:]))\n",
        "    top_model.add(Dense(256,activation='relu'))\n",
        "    top_model.add(Dropout(0.5))\n",
        "    top_model.add(Dense(1,activation='sigmoid'))\n",
        "    \n",
        "    top_model.load_weights(top_model_weights_path)\n",
        "    \n",
        "    model.add(top_model)\n",
        "    \n",
        "    for layer in model.layers[:25]:\n",
        "        layer.trainable = False\n",
        "    \n",
        "    model.compile(loss='binary_crossentropy',\n",
        "                 optimizer=optimizers.SGD(lr=0.0001,momentum=0.9),\n",
        "                 metrics=['accuracy'])\n",
        "    \n",
        "    train_datagen = ImageDataGenerator(rescale = 1./255,\n",
        "          zoom_range=0.2,\n",
        "          shear_range=0.2,\n",
        "          horizontal_flip=True,\n",
        "          height_shift_range = 0.2,\n",
        "          width_shift_range = 0.2,\n",
        "          fill_mode='nearest')\n",
        "    \n",
        "    test_datagen = ImageDataGenerator(rescale=1./255)\n",
        "    \n",
        "    train_generator = train_datagen.flow_from_directory(train_data_dir,\n",
        "                      target_size = (img_height,img_width),\n",
        "                      batch_size = batch_size,class_mode='binary')\n",
        "    \n",
        "    test_generator = test_datagen.flow_from_directory(test_data_dir,\n",
        "                      target_size = (ht_test,width_test),\n",
        "                      batch_size = batch_size,class_mode='binary')\n",
        "    \n",
        "    train_samples = len(train_generator.filenames)  \n",
        "    test_samples = len(test_generator.filenames)\n",
        "    \n",
        "    model.fit_generator(\n",
        "        train_generator,\n",
        "        samples_per_epoch=train_samples,\n",
        "        epochs=epochs,\n",
        "        validation_data=test_generator,\n",
        "        nb_val_samples=test_samples)\n",
        "  \n",
        "train_top_model()\n",
        "\n"
      ],
      "execution_count": 10,
      "outputs": [
        {
          "output_type": "stream",
          "text": [
            "(2716, 7, 7, 512)\n",
            "(152, 6, 4, 512)\n"
          ],
          "name": "stdout"
        },
        {
          "output_type": "error",
          "ename": "TypeError",
          "evalue": "ignored",
          "traceback": [
            "\u001b[0;31m---------------------------------------------------------------------------\u001b[0m",
            "\u001b[0;31mTypeError\u001b[0m                                 Traceback (most recent call last)",
            "\u001b[0;32m<ipython-input-10-90534a398a49>\u001b[0m in \u001b[0;36m<module>\u001b[0;34m()\u001b[0m\n\u001b[1;32m    119\u001b[0m         nb_val_samples=test_samples)\n\u001b[1;32m    120\u001b[0m \u001b[0;34m\u001b[0m\u001b[0m\n\u001b[0;32m--> 121\u001b[0;31m \u001b[0mtrain_top_model\u001b[0m\u001b[0;34m(\u001b[0m\u001b[0;34m)\u001b[0m\u001b[0;34m\u001b[0m\u001b[0m\n\u001b[0m\u001b[1;32m    122\u001b[0m \u001b[0;34m\u001b[0m\u001b[0m\n",
            "\u001b[0;32m<ipython-input-10-90534a398a49>\u001b[0m in \u001b[0;36mtrain_top_model\u001b[0;34m()\u001b[0m\n\u001b[1;32m     32\u001b[0m              \u001b[0mepochs\u001b[0m\u001b[0;34m=\u001b[0m\u001b[0mepochs\u001b[0m\u001b[0;34m,\u001b[0m\u001b[0;34m\u001b[0m\u001b[0m\n\u001b[1;32m     33\u001b[0m              \u001b[0mbatch_size\u001b[0m \u001b[0;34m=\u001b[0m \u001b[0mbatch_size\u001b[0m\u001b[0;34m,\u001b[0m\u001b[0;34m\u001b[0m\u001b[0m\n\u001b[0;32m---> 34\u001b[0;31m              test_data = (test_data,test_labels))\n\u001b[0m\u001b[1;32m     35\u001b[0m \u001b[0;34m\u001b[0m\u001b[0m\n\u001b[1;32m     36\u001b[0m     \u001b[0mmodel\u001b[0m\u001b[0;34m.\u001b[0m\u001b[0msave_weights\u001b[0m\u001b[0;34m(\u001b[0m\u001b[0mtop_model_weights_path\u001b[0m\u001b[0;34m)\u001b[0m\u001b[0;34m\u001b[0m\u001b[0m\n",
            "\u001b[0;32m/usr/local/lib/python3.6/dist-packages/keras/models.py\u001b[0m in \u001b[0;36mfit\u001b[0;34m(self, x, y, batch_size, epochs, verbose, callbacks, validation_split, validation_data, shuffle, class_weight, sample_weight, initial_epoch, steps_per_epoch, validation_steps, **kwargs)\u001b[0m\n\u001b[1;32m    983\u001b[0m             \u001b[0mepochs\u001b[0m \u001b[0;34m=\u001b[0m \u001b[0mkwargs\u001b[0m\u001b[0;34m.\u001b[0m\u001b[0mpop\u001b[0m\u001b[0;34m(\u001b[0m\u001b[0;34m'nb_epoch'\u001b[0m\u001b[0;34m)\u001b[0m\u001b[0;34m\u001b[0m\u001b[0m\n\u001b[1;32m    984\u001b[0m         \u001b[0;32mif\u001b[0m \u001b[0mkwargs\u001b[0m\u001b[0;34m:\u001b[0m\u001b[0;34m\u001b[0m\u001b[0m\n\u001b[0;32m--> 985\u001b[0;31m             \u001b[0;32mraise\u001b[0m \u001b[0mTypeError\u001b[0m\u001b[0;34m(\u001b[0m\u001b[0;34m'Unrecognized keyword arguments: '\u001b[0m \u001b[0;34m+\u001b[0m \u001b[0mstr\u001b[0m\u001b[0;34m(\u001b[0m\u001b[0mkwargs\u001b[0m\u001b[0;34m)\u001b[0m\u001b[0;34m)\u001b[0m\u001b[0;34m\u001b[0m\u001b[0m\n\u001b[0m\u001b[1;32m    986\u001b[0m \u001b[0;34m\u001b[0m\u001b[0m\n\u001b[1;32m    987\u001b[0m         \u001b[0;32mif\u001b[0m \u001b[0;32mnot\u001b[0m \u001b[0mself\u001b[0m\u001b[0;34m.\u001b[0m\u001b[0mbuilt\u001b[0m\u001b[0;34m:\u001b[0m\u001b[0;34m\u001b[0m\u001b[0m\n",
            "\u001b[0;31mTypeError\u001b[0m: Unrecognized keyword arguments: {'test_data': (array([[[[2.09043920e-02, 0.00000000e+00, 0.00000000e+00, ...,\n          0.00000000e+00, 7.60705888e-01, 0.00000000e+00],\n         [1.95541248e-01, 0.00000000e+00, 0.00000000e+00, ...,\n          0.00000000e+00, 6.76162899e-01, 0.00000000e+00],\n         [4.87753838e-01, 0.00000000e+00, 0.00000000e+00, ...,\n          0.00000000e+00, 7.84173071e-01, 0.00000000e+00],\n         [1.72026023e-01, 0.00000000e+00, 1.98012590e-03, ...,\n          0.00000000e+00, 8.40629160e-01, 0.00000000e+00]],\n\n        [[1.05342865e-01, 0.00000000e+00, 0.00000000e+00, ...,\n          7.36110583e-02, 4.67475712e-01, 0.00000000e+00],\n         [8.58899951e-03, 0.00000000e+00, 0.00000000e+00, ...,\n          3.09411585e-01, 1.74512029e-01, 0.00000000e+00],\n         [7.07240105e-01, 0.00000000e+00, 1.96906805e-01, ...,\n          2.72929102e-01, 5.46677530e-01, 0.00000000e+00],\n         [2.39008069e-02, 0.00000000e+00, 4.41899925e-01, ...,\n          1.41220987e-01, 6.65025830e-01, 0.00000000e+00]],\n\n        [[1.95396900e-01, 0.00000000e+00, 0.00000000e+00, ...,\n          1.15545548e-01, 7.74624228e-01, 0.00000000e+00],\n         [2.95127243e-01, 0.00000000e+00, 1.54062480e-01, ...,\n          4.59961072e-02, 4.32246506e-01, 0.00000000e+00],\n         [6.45640850e-01, 0.00000000e+00, 3.88342798e-01, ...,\n          5.90018183e-03, 5.23344398e-01, 0.00000000e+00],\n         [3.77921820e-01, 0.00000000e+00, 2.43872881e-01, ...,\n          0.00000000e+00, 5.67733228e-01, 0.00000000e+00]],\n\n        [[2.47376993e-01, 0.00000000e+00, 9.20791030e-02, ...,\n          0.00000000e+00, 7.63900518e-01, 0.00000000e+00],\n         [9.59137976e-02, 0.00000000e+00, 3.54113936e-01, ...,\n          0.00000000e+00, 6.03091121e-01, 0.00000000e+00],\n         [2.94281006e-01, 0.00000000e+00, 5.46118200e-01, ...,\n          0.00000000e+00, 6.54747605e-01, 0.00000000e+00],\n         [7.28283405e-01, 0.00000000e+00, 1.04745448e-01, ...,\n          0.00000000e+00, 7.74483323e-01, 0.00000000e+00]],\n\n        [[8.12360168e-01, 0.00000000e+00, 8.36020708e-03, ...,\n          0.00000000e+00, 1.11038065e+00, 0.00000000e+00],\n         [1.00509143e+00, 0.00000000e+00, 4.84985232e-01, ...,\n          0.00000000e+00, 5.50079703e-01, 0.00000000e+00],\n         [1.03482985e+00, 0.00000000e+00, 7.27212310e-01, ...,\n          0.00000000e+00, 3.50104392e-01, 0.00000000e+00],\n         [1.15759146e+00, 0.00000000e+00, 3.06929827e-01, ...,\n          0.00000000e+00, 5.24450302e-01, 0.00000000e+00]],\n\n        [[6.49216294e-01, 0.00000000e+00, 3.67165864e-01, ...,\n          6.97348490e-02, 1.10214972e+00, 0.00000000e+00],\n         [8.85354340e-01, 0.00000000e+00, 1.93753302e-01, ...,\n          0.00000000e+00, 6.46056533e-01, 0.00000000e+00],\n         [8.77296925e-01, 0.00000000e+00, 0.00000000e+00, ...,\n          0.00000000e+00, 2.81620085e-01, 0.00000000e+00],\n         [9.92715299e-01, 0.00000000e+00, 0.00000000e+00, ...,\n          0.00000000e+00, 7.69972801e-04, 0.00000000e+00]]],\n\n\n       [[[0.00000000e+00, 0.00000000e+00, 0.00000000e+00, ...,\n          0.00000000e+00, 8.06764960e-01, 0.00000000e+00],\n         [5.17696857e-01, 0.00000000e+00, 0.00000000e+00, ...,\n          0.00000000e+00, 5.54717481e-01, 0.00000000e+00],\n         [8.29048634e-01, 0.00000000e+00, 0.00000000e+00, ...,\n          0.00000000e+00, 6.49689317e-01, 0.00000000e+00],\n         [1.55267060e-01, 0.00000000e+00, 0.00000000e+00, ...,\n          0.00000000e+00, 6.79491103e-01, 0.00000000e+00]],\n\n        [[0.00000000e+00, 0.00000000e+00, 0.00000000e+00, ...,\n          5.84105402e-03, 3.54133070e-01, 0.00000000e+00],\n         [1.41200542e-01, 0.00000000e+00, 0.00000000e+00, ...,\n          0.00000000e+00, 4.04058278e-01, 0.00000000e+00],\n         [7.21742868e-01, 0.00000000e+00, 0.00000000e+00, ...,\n          1.47160858e-01, 3.11560690e-01, 0.00000000e+00],\n         [0.00000000e+00, 0.00000000e+00, 0.00000000e+00, ...,\n          0.00000000e+00, 6.42313123e-01, 0.00000000e+00]],\n\n        [[0.00000000e+00, 0.00000000e+00, 0.00000000e+00, ...,\n          0.00000000e+00, 6.74833775e-01, 0.00000000e+00],\n         [2.46715531e-01, 0.00000000e+00, 0.00000000e+00, ...,\n          1.67523146e-01, 9.57401395e-01, 0.00000000e+00],\n         [5.22893667e-01, 0.00000000e+00, 1.85656190e-01, ...,\n          1.61711007e-01, 8.06115568e-01, 0.00000000e+00],\n         [7.40855575e-01, 0.00000000e+00, 0.00000000e+00, ...,\n          0.00000000e+00, 9.69837368e-01, 0.00000000e+00]],\n\n        [[0.00000000e+00, 0.00000000e+00, 2.36825168e-01, ...,\n          1.40376061e-01, 8.72285008e-01, 0.00000000e+00],\n         [0.00000000e+00, 0.00000000e+00, 0.00000000e+00, ...,\n          3.96076918e-01, 1.00723827e+00, 0.00000000e+00],\n         [0.00000000e+00, 0.00000000e+00, 6.67527616e-02, ...,\n          2.85502583e-01, 8.16550136e-01, 0.00000000e+00],\n         [6.12116039e-01, 0.00000000e+00, 0.00000000e+00, ...,\n          0.00000000e+00, 9.93899763e-01, 0.00000000e+00]],\n\n        [[0.00000000e+00, 0.00000000e+00, 5.76842427e-02, ...,\n          0.00000000e+00, 4.46923554e-01, 0.00000000e+00],\n         [0.00000000e+00, 0.00000000e+00, 0.00000000e+00, ...,\n          6.34960011e-02, 3.57637107e-01, 0.00000000e+00],\n         [0.00000000e+00, 0.00000000e+00, 0.00000000e+00, ...,\n          2.61448711e-01, 2.27754772e-01, 0.00000000e+00],\n         [6.34194732e-01, 0.00000000e+00, 0.00000000e+00, ...,\n          1.11296289e-01, 4.29381073e-01, 0.00000000e+00]],\n\n        [[0.00000000e+00, 0.00000000e+00, 0.00000000e+00, ...,\n          0.00000000e+00, 3.36834788e-01, 0.00000000e+00],\n         [1.03139430e-01, 0.00000000e+00, 0.00000000e+00, ...,\n          0.00000000e+00, 2.81319559e-01, 0.00000000e+00],\n         [4.53002095e-01, 0.00000000e+00, 0.00000000e+00, ...,\n          0.00000000e+00, 3.22686195e-01, 0.00000000e+00],\n         [3.72012556e-01, 0.00000000e+00, 0.00000000e+00, ...,\n          0.00000000e+00, 3.60370308e-01, 0.00000000e+00]]],\n\n\n       [[[0.00000000e+00, 0.00000000e+00, 0.00000000e+00, ...,\n          0.00000000e+00, 7.67320514e-01, 0.00000000e+00],\n         [2.27724239e-01, 0.00000000e+00, 0.00000000e+00, ...,\n          0.00000000e+00, 3.33050132e-01, 0.00000000e+00],\n         [6.71382189e-01, 0.00000000e+00, 0.00000000e+00, ...,\n          3.83193284e-01, 4.77444649e-01, 0.00000000e+00],\n         [1.16384476e-01, 0.00000000e+00, 0.00000000e+00, ...,\n          4.26496357e-01, 4.31441188e-01, 0.00000000e+00]],\n\n        [[3.92523706e-01, 0.00000000e+00, 1.23403251e-01, ...,\n          0.00000000e+00, 4.77841109e-01, 0.00000000e+00],\n         [1.90141678e-01, 0.00000000e+00, 0.00000000e+00, ...,\n          2.70963252e-01, 0.00000000e+00, 0.00000000e+00],\n         [9.17799056e-01, 0.00000000e+00, 0.00000000e+00, ...,\n          4.75674301e-01, 4.04091805e-01, 0.00000000e+00],\n         [4.36240554e-01, 0.00000000e+00, 0.00000000e+00, ...,\n          1.26957268e-01, 8.27242374e-01, 0.00000000e+00]],\n\n        [[4.72255915e-01, 0.00000000e+00, 1.79792821e-01, ...,\n          0.00000000e+00, 5.69637835e-01, 0.00000000e+00],\n         [6.20354176e-01, 0.00000000e+00, 0.00000000e+00, ...,\n          3.11228842e-01, 7.66729593e-01, 0.00000000e+00],\n         [9.62927043e-01, 0.00000000e+00, 0.00000000e+00, ...,\n          4.75692302e-01, 1.06575704e+00, 0.00000000e+00],\n         [9.96073663e-01, 0.00000000e+00, 2.11793780e-02, ...,\n          0.00000000e+00, 1.38702726e+00, 0.00000000e+00]],\n\n        [[6.62219524e-03, 0.00000000e+00, 2.79327333e-01, ...,\n          9.97267738e-02, 6.84540451e-01, 0.00000000e+00],\n         [3.48596364e-01, 0.00000000e+00, 0.00000000e+00, ...,\n          1.09326907e-01, 7.19007492e-01, 0.00000000e+00],\n         [4.46572125e-01, 0.00000000e+00, 0.00000000e+00, ...,\n          2.90444285e-01, 9.16663706e-01, 0.00000000e+00],\n         [6.96653903e-01, 0.00000000e+00, 0.00000000e+00, ...,\n          0.00000000e+00, 1.22282290e+00, 0.00000000e+00]],\n\n        [[1.96145326e-01, 0.00000000e+00, 1.35511577e-01, ...,\n          2.54778415e-01, 3.22019815e-01, 0.00000000e+00],\n         [6.98698878e-01, 0.00000000e+00, 0.00000000e+00, ...,\n          5.63113615e-02, 4.96389627e-01, 0.00000000e+00],\n         [8.07658195e-01, 0.00000000e+00, 0.00000000e+00, ...,\n          8.81936923e-02, 4.99051988e-01, 0.00000000e+00],\n         [4.60083395e-01, 0.00000000e+00, 0.00000000e+00, ...,\n          0.00000000e+00, 5.80355406e-01, 0.00000000e+00]],\n\n        [[5.33735752e-02, 0.00000000e+00, 0.00000000e+00, ...,\n          0.00000000e+00, 2.29098439e-01, 0.00000000e+00],\n         [6.34200037e-01, 0.00000000e+00, 0.00000000e+00, ...,\n          3.14256325e-02, 4.42336023e-01, 0.00000000e+00],\n         [7.90919065e-01, 0.00000000e+00, 0.00000000e+00, ...,\n          1.15415230e-02, 5.26225865e-01, 0.00000000e+00],\n         [3.60597312e-01, 0.00000000e+00, 0.00000000e+00, ...,\n          5.34010977e-02, 3.09976757e-01, 0.00000000e+00]]],\n\n\n       ...,\n\n\n       [[[2.47526765e-01, 0.00000000e+00, 0.00000000e+00, ...,\n          0.00000000e+00, 5.49847722e-01, 0.00000000e+00],\n         [8.53114843e-01, 0.00000000e+00, 6.84765279e-02, ...,\n          2.28832126e-01, 7.74749517e-02, 0.00000000e+00],\n         [1.06603336e+00, 0.00000000e+00, 0.00000000e+00, ...,\n          4.04775888e-01, 3.65636230e-01, 0.00000000e+00],\n         [5.29132485e-01, 0.00000000e+00, 0.00000000e+00, ...,\n          3.31370473e-01, 4.22264397e-01, 0.00000000e+00]],\n\n        [[2.48115063e-01, 0.00000000e+00, 0.00000000e+00, ...,\n          0.00000000e+00, 5.82023978e-01, 0.00000000e+00],\n         [4.15936261e-01, 0.00000000e+00, 0.00000000e+00, ...,\n          1.43742770e-01, 2.61197269e-01, 0.00000000e+00],\n         [4.93847281e-01, 0.00000000e+00, 0.00000000e+00, ...,\n          2.16616184e-01, 6.63456202e-01, 0.00000000e+00],\n         [5.47873378e-01, 0.00000000e+00, 0.00000000e+00, ...,\n          0.00000000e+00, 9.38282132e-01, 0.00000000e+00]],\n\n        [[3.66502941e-01, 0.00000000e+00, 0.00000000e+00, ...,\n          0.00000000e+00, 5.83402276e-01, 0.00000000e+00],\n         [2.10376531e-01, 0.00000000e+00, 1.79835737e-01, ...,\n          0.00000000e+00, 6.17488980e-01, 0.00000000e+00],\n         [3.35260808e-01, 0.00000000e+00, 3.70358646e-01, ...,\n          1.53953224e-01, 8.39152753e-01, 0.00000000e+00],\n         [7.20406711e-01, 0.00000000e+00, 0.00000000e+00, ...,\n          0.00000000e+00, 1.06303322e+00, 0.00000000e+00]],\n\n        [[3.39468718e-01, 0.00000000e+00, 0.00000000e+00, ...,\n          0.00000000e+00, 5.80598116e-01, 0.00000000e+00],\n         [0.00000000e+00, 0.00000000e+00, 2.01711655e-01, ...,\n          1.35889471e-01, 7.01622844e-01, 0.00000000e+00],\n         [0.00000000e+00, 0.00000000e+00, 1.71461999e-01, ...,\n          2.49011010e-01, 7.37077236e-01, 0.00000000e+00],\n         [2.02978760e-01, 0.00000000e+00, 0.00000000e+00, ...,\n          1.83475792e-01, 8.11671436e-01, 0.00000000e+00]],\n\n        [[7.82527149e-01, 0.00000000e+00, 0.00000000e+00, ...,\n          0.00000000e+00, 2.78421283e-01, 0.00000000e+00],\n         [7.40381837e-01, 0.00000000e+00, 5.55963814e-02, ...,\n          2.75825188e-02, 5.64834595e-01, 0.00000000e+00],\n         [6.92400932e-01, 0.00000000e+00, 0.00000000e+00, ...,\n          7.24906698e-02, 5.19737601e-01, 0.00000000e+00],\n         [2.17302442e-01, 0.00000000e+00, 0.00000000e+00, ...,\n          0.00000000e+00, 3.05592418e-01, 0.00000000e+00]],\n\n        [[5.87630033e-01, 0.00000000e+00, 0.00000000e+00, ...,\n          0.00000000e+00, 2.08356619e-01, 0.00000000e+00],\n         [8.16218376e-01, 0.00000000e+00, 0.00000000e+00, ...,\n          0.00000000e+00, 3.23113471e-01, 0.00000000e+00],\n         [7.91895390e-01, 0.00000000e+00, 0.00000000e+00, ...,\n          0.00000000e+00, 3.73314321e-01, 0.00000000e+00],\n         [3.83296430e-01, 0.00000000e+00, 1.50187969e-01, ...,\n          0.00000000e+00, 2.41809666e-01, 0.00000000e+00]]],\n\n\n       [[[3.94155562e-01, 0.00000000e+00, 2.65660882e-02, ...,\n          0.00000000e+00, 3.59065831e-01, 0.00000000e+00],\n         [7.47193277e-01, 0.00000000e+00, 0.00000000e+00, ...,\n          0.00000000e+00, 3.65721852e-01, 0.00000000e+00],\n         [8.63168120e-01, 0.00000000e+00, 0.00000000e+00, ...,\n          0.00000000e+00, 7.85482109e-01, 0.00000000e+00],\n         [5.85332155e-01, 0.00000000e+00, 0.00000000e+00, ...,\n          0.00000000e+00, 8.12384605e-01, 0.00000000e+00]],\n\n        [[5.36399961e-01, 0.00000000e+00, 0.00000000e+00, ...,\n          0.00000000e+00, 4.06763852e-01, 0.00000000e+00],\n         [9.28786159e-01, 0.00000000e+00, 0.00000000e+00, ...,\n          0.00000000e+00, 2.72989661e-01, 0.00000000e+00],\n         [8.90036106e-01, 0.00000000e+00, 0.00000000e+00, ...,\n          3.85864258e-01, 8.39859486e-01, 0.00000000e+00],\n         [4.25098062e-01, 0.00000000e+00, 0.00000000e+00, ...,\n          2.44806290e-01, 8.66089940e-01, 0.00000000e+00]],\n\n        [[1.28710866e-01, 0.00000000e+00, 2.24093795e-02, ...,\n          0.00000000e+00, 5.96318960e-01, 0.00000000e+00],\n         [1.05363059e+00, 0.00000000e+00, 0.00000000e+00, ...,\n          0.00000000e+00, 1.22195005e-01, 0.00000000e+00],\n         [9.60792780e-01, 0.00000000e+00, 2.68887341e-01, ...,\n          0.00000000e+00, 8.22582960e-01, 0.00000000e+00],\n         [4.89150703e-01, 0.00000000e+00, 5.27780175e-01, ...,\n          0.00000000e+00, 7.04347432e-01, 0.00000000e+00]],\n\n        [[0.00000000e+00, 0.00000000e+00, 1.09417737e-01, ...,\n          4.53190282e-02, 8.08734775e-01, 0.00000000e+00],\n         [7.44550526e-01, 0.00000000e+00, 0.00000000e+00, ...,\n          0.00000000e+00, 3.89456332e-01, 0.00000000e+00],\n         [8.96433949e-01, 0.00000000e+00, 1.87552869e-01, ...,\n          0.00000000e+00, 8.61763597e-01, 0.00000000e+00],\n         [4.50344890e-01, 0.00000000e+00, 4.91966069e-01, ...,\n          0.00000000e+00, 7.31116176e-01, 0.00000000e+00]],\n\n        [[1.36161447e-02, 0.00000000e+00, 2.89914250e-01, ...,\n          6.46596327e-02, 7.96433508e-01, 0.00000000e+00],\n         [6.31120801e-01, 0.00000000e+00, 0.00000000e+00, ...,\n          0.00000000e+00, 3.10329020e-01, 0.00000000e+00],\n         [9.94699121e-01, 0.00000000e+00, 0.00000000e+00, ...,\n          0.00000000e+00, 6.45914912e-01, 0.00000000e+00],\n         [6.71141148e-01, 0.00000000e+00, 2.09343344e-01, ...,\n          0.00000000e+00, 6.14989102e-01, 0.00000000e+00]],\n\n        [[0.00000000e+00, 0.00000000e+00, 5.25839925e-02, ...,\n          0.00000000e+00, 3.13423693e-01, 0.00000000e+00],\n         [8.54327023e-01, 0.00000000e+00, 3.00841242e-01, ...,\n          0.00000000e+00, 3.42307091e-01, 0.00000000e+00],\n         [1.05177140e+00, 0.00000000e+00, 2.08371103e-01, ...,\n          0.00000000e+00, 4.65375781e-01, 0.00000000e+00],\n         [6.38066888e-01, 0.00000000e+00, 2.41575450e-01, ...,\n          0.00000000e+00, 4.63530183e-01, 0.00000000e+00]]],\n\n\n       [[[4.21829373e-01, 0.00000000e+00, 0.00000000e+00, ...,\n          0.00000000e+00, 7.30442524e-01, 0.00000000e+00],\n         [6.44257307e-01, 0.00000000e+00, 0.00000000e+00, ...,\n          0.00000000e+00, 6.22772813e-01, 0.00000000e+00],\n         [7.83456326e-01, 0.00000000e+00, 0.00000000e+00, ...,\n          0.00000000e+00, 7.47760177e-01, 0.00000000e+00],\n         [2.26372629e-01, 0.00000000e+00, 0.00000000e+00, ...,\n          0.00000000e+00, 6.80941463e-01, 0.00000000e+00]],\n\n        [[0.00000000e+00, 0.00000000e+00, 0.00000000e+00, ...,\n          5.32337800e-02, 3.64452541e-01, 0.00000000e+00],\n         [5.39174259e-01, 0.00000000e+00, 0.00000000e+00, ...,\n          3.55566889e-01, 2.93443143e-01, 0.00000000e+00],\n         [7.88180590e-01, 0.00000000e+00, 0.00000000e+00, ...,\n          4.90083367e-01, 2.81138182e-01, 0.00000000e+00],\n         [0.00000000e+00, 0.00000000e+00, 0.00000000e+00, ...,\n          1.64865673e-01, 4.88119245e-01, 0.00000000e+00]],\n\n        [[0.00000000e+00, 0.00000000e+00, 0.00000000e+00, ...,\n          0.00000000e+00, 7.43993402e-01, 0.00000000e+00],\n         [2.75389999e-01, 0.00000000e+00, 0.00000000e+00, ...,\n          1.76804304e-01, 7.00910628e-01, 0.00000000e+00],\n         [8.54668617e-01, 0.00000000e+00, 1.45692468e-01, ...,\n          2.18975812e-01, 6.41837120e-01, 0.00000000e+00],\n         [8.12688351e-01, 0.00000000e+00, 0.00000000e+00, ...,\n          0.00000000e+00, 7.62369573e-01, 0.00000000e+00]],\n\n        [[0.00000000e+00, 0.00000000e+00, 2.41815269e-01, ...,\n          2.75325179e-01, 8.80990326e-01, 0.00000000e+00],\n         [1.01216093e-01, 0.00000000e+00, 0.00000000e+00, ...,\n          3.20164859e-01, 8.68905604e-01, 0.00000000e+00],\n         [5.84407568e-01, 0.00000000e+00, 3.09872329e-01, ...,\n          2.26256400e-01, 6.91391110e-01, 0.00000000e+00],\n         [8.23828161e-01, 0.00000000e+00, 1.30434155e-01, ...,\n          0.00000000e+00, 8.53898287e-01, 0.00000000e+00]],\n\n        [[1.27471969e-01, 0.00000000e+00, 0.00000000e+00, ...,\n          0.00000000e+00, 3.97250235e-01, 0.00000000e+00],\n         [5.47511220e-01, 0.00000000e+00, 0.00000000e+00, ...,\n          0.00000000e+00, 4.46624607e-01, 0.00000000e+00],\n         [1.09984827e+00, 0.00000000e+00, 1.85344994e-01, ...,\n          0.00000000e+00, 0.00000000e+00, 0.00000000e+00],\n         [1.06642962e+00, 0.00000000e+00, 9.82716978e-02, ...,\n          0.00000000e+00, 1.26598418e-01, 0.00000000e+00]],\n\n        [[3.15051913e-01, 0.00000000e+00, 0.00000000e+00, ...,\n          0.00000000e+00, 5.33874393e-01, 0.00000000e+00],\n         [7.44751275e-01, 0.00000000e+00, 0.00000000e+00, ...,\n          0.00000000e+00, 5.19294143e-01, 0.00000000e+00],\n         [9.44774628e-01, 0.00000000e+00, 0.00000000e+00, ...,\n          0.00000000e+00, 3.26798201e-01, 0.00000000e+00],\n         [5.72103620e-01, 0.00000000e+00, 0.00000000e+00, ...,\n          0.00000000e+00, 2.47620165e-01, 0.00000000e+00]]]],\n      dtype=float32), array([1, 1, 1, 1, 1, 1, 1, 1, 1, 1, 1, 1, 1, 1, 1, 1, 1, 1, 1, 1, 1, 1,\n       1, 1, 1, 1, 1, 1, 1, 1, 1, 1, 1, 1, 1, 1, 1, 1, 1, 1, 1, 1, 1, 1,\n       1, 1, 1, 1, 1, 1, 1, 1, 1, 1, 1, 1, 1, 1, 1, 1, 1, 1, 1, 1, 1, 1,\n       0, 0, 0, 0, 0, 0, 0, 0, 0, 0, 0, 0, 0, 0, 0, 0, 0, 0, 0, 0, 0, 0,\n       0, 0, 0, 0, 0, 0, 0, 0, 0, 0, 0, 0, 0, 0, 0, 0, 0, 0, 0, 0, 0, 0,\n       0, 0, 0, 0, 0, 0, 0, 0, 0, 0, 0, 0, 0, 0, 0, 0, 0, 0, 0, 0, 0, 0,\n       0, 0, 0, 0, 0, 0, 0, 0, 0, 0, 0, 0, 0, 0, 0, 0, 0, 0, 0, 0, 0]))}"
          ]
        }
      ]
    },
    {
      "metadata": {
        "id": "3Jgt2fAJLL0l",
        "colab_type": "code",
        "colab": {}
      },
      "cell_type": "code",
      "source": [
        " "
      ],
      "execution_count": 0,
      "outputs": []
    }
  ]
}